{
  "nbformat": 4,
  "nbformat_minor": 0,
  "metadata": {
    "colab": {
      "name": "Part_5_intro_to_matplotlib.ipynb",
      "provenance": [],
      "authorship_tag": "ABX9TyNcG8jjEbAAPFZTFima4YVQ",
      "include_colab_link": true
    },
    "kernelspec": {
      "name": "python3",
      "display_name": "Python 3"
    }
  },
  "cells": [
    {
      "cell_type": "markdown",
      "metadata": {
        "id": "view-in-github",
        "colab_type": "text"
      },
      "source": [
        "<a href=\"https://colab.research.google.com/github/Lawrence-Krukrubo/Immigrations_Data_Visualization_with_Matplotlib/blob/master/Part_5_intro_to_matplotlib.ipynb\" target=\"_parent\"><img src=\"https://colab.research.google.com/assets/colab-badge.svg\" alt=\"Open In Colab\"/></a>"
      ]
    },
    {
      "cell_type": "markdown",
      "metadata": {
        "id": "ckn-Y_SEp_Sv",
        "colab_type": "text"
      },
      "source": [
        "First, let's import the data we'd cleaned and processed from Github, which we used last in Part 4."
      ]
    },
    {
      "cell_type": "code",
      "metadata": {
        "id": "zr9Mtph-p-MJ",
        "colab_type": "code",
        "colab": {
          "base_uri": "https://localhost:8080/",
          "height": 71
        },
        "outputId": "01167fe3-c512-413f-c16e-40a356dd6b98"
      },
      "source": [
        "import pandas as pd\n",
        "import matplotlib.pyplot as plt\n",
        "import seaborn as sns\n",
        "import numpy as np"
      ],
      "execution_count": 1,
      "outputs": [
        {
          "output_type": "stream",
          "text": [
            "/usr/local/lib/python3.6/dist-packages/statsmodels/tools/_testing.py:19: FutureWarning: pandas.util.testing is deprecated. Use the functions in the public API at pandas.testing instead.\n",
            "  import pandas.util.testing as tm\n"
          ],
          "name": "stderr"
        }
      ]
    },
    {
      "cell_type": "code",
      "metadata": {
        "id": "NLtnCx40rxxH",
        "colab_type": "code",
        "colab": {}
      },
      "source": [
        "data = 'https://raw.githubusercontent.com/Lawrence-Krukrubo/Immigrations_Data_Visualization_with_Matplotlib/master/part3_canada_df.csv'"
      ],
      "execution_count": 2,
      "outputs": []
    },
    {
      "cell_type": "code",
      "metadata": {
        "id": "UrblNLTLsF6Y",
        "colab_type": "code",
        "colab": {
          "base_uri": "https://localhost:8080/",
          "height": 309
        },
        "outputId": "e351934f-7054-47af-84ec-0b07bfb83d9f"
      },
      "source": [
        "canada_df = pd.read_csv(data)\n",
        "canada_df.head()"
      ],
      "execution_count": 3,
      "outputs": [
        {
          "output_type": "execute_result",
          "data": {
            "text/html": [
              "<div>\n",
              "<style scoped>\n",
              "    .dataframe tbody tr th:only-of-type {\n",
              "        vertical-align: middle;\n",
              "    }\n",
              "\n",
              "    .dataframe tbody tr th {\n",
              "        vertical-align: top;\n",
              "    }\n",
              "\n",
              "    .dataframe thead th {\n",
              "        text-align: right;\n",
              "    }\n",
              "</style>\n",
              "<table border=\"1\" class=\"dataframe\">\n",
              "  <thead>\n",
              "    <tr style=\"text-align: right;\">\n",
              "      <th></th>\n",
              "      <th>Country</th>\n",
              "      <th>Continent</th>\n",
              "      <th>Region</th>\n",
              "      <th>Status</th>\n",
              "      <th>1980</th>\n",
              "      <th>1981</th>\n",
              "      <th>1982</th>\n",
              "      <th>1983</th>\n",
              "      <th>1984</th>\n",
              "      <th>1985</th>\n",
              "      <th>1986</th>\n",
              "      <th>1987</th>\n",
              "      <th>1988</th>\n",
              "      <th>1989</th>\n",
              "      <th>1990</th>\n",
              "      <th>1991</th>\n",
              "      <th>1992</th>\n",
              "      <th>1993</th>\n",
              "      <th>1994</th>\n",
              "      <th>1995</th>\n",
              "      <th>1996</th>\n",
              "      <th>1997</th>\n",
              "      <th>1998</th>\n",
              "      <th>1999</th>\n",
              "      <th>2000</th>\n",
              "      <th>2001</th>\n",
              "      <th>2002</th>\n",
              "      <th>2003</th>\n",
              "      <th>2004</th>\n",
              "      <th>2005</th>\n",
              "      <th>2006</th>\n",
              "      <th>2007</th>\n",
              "      <th>2008</th>\n",
              "      <th>2009</th>\n",
              "      <th>2010</th>\n",
              "      <th>2011</th>\n",
              "      <th>2012</th>\n",
              "      <th>2013</th>\n",
              "      <th>Total</th>\n",
              "      <th>Migration_Rate</th>\n",
              "    </tr>\n",
              "  </thead>\n",
              "  <tbody>\n",
              "    <tr>\n",
              "      <th>0</th>\n",
              "      <td>Afghanistan</td>\n",
              "      <td>Asia</td>\n",
              "      <td>Southern Asia</td>\n",
              "      <td>Developing regions</td>\n",
              "      <td>16</td>\n",
              "      <td>39</td>\n",
              "      <td>39</td>\n",
              "      <td>47</td>\n",
              "      <td>71</td>\n",
              "      <td>340</td>\n",
              "      <td>496</td>\n",
              "      <td>741</td>\n",
              "      <td>828</td>\n",
              "      <td>1076</td>\n",
              "      <td>1028</td>\n",
              "      <td>1378</td>\n",
              "      <td>1170</td>\n",
              "      <td>713</td>\n",
              "      <td>858</td>\n",
              "      <td>1537</td>\n",
              "      <td>2212</td>\n",
              "      <td>2555</td>\n",
              "      <td>1999</td>\n",
              "      <td>2395</td>\n",
              "      <td>3326</td>\n",
              "      <td>4067</td>\n",
              "      <td>3697</td>\n",
              "      <td>3479</td>\n",
              "      <td>2978</td>\n",
              "      <td>3436</td>\n",
              "      <td>3009</td>\n",
              "      <td>2652</td>\n",
              "      <td>2111</td>\n",
              "      <td>1746</td>\n",
              "      <td>1758</td>\n",
              "      <td>2203</td>\n",
              "      <td>2635</td>\n",
              "      <td>2004</td>\n",
              "      <td>58639</td>\n",
              "      <td>Low</td>\n",
              "    </tr>\n",
              "    <tr>\n",
              "      <th>1</th>\n",
              "      <td>Albania</td>\n",
              "      <td>Europe</td>\n",
              "      <td>Southern Europe</td>\n",
              "      <td>Developed regions</td>\n",
              "      <td>1</td>\n",
              "      <td>0</td>\n",
              "      <td>0</td>\n",
              "      <td>0</td>\n",
              "      <td>0</td>\n",
              "      <td>0</td>\n",
              "      <td>1</td>\n",
              "      <td>2</td>\n",
              "      <td>2</td>\n",
              "      <td>3</td>\n",
              "      <td>3</td>\n",
              "      <td>21</td>\n",
              "      <td>56</td>\n",
              "      <td>96</td>\n",
              "      <td>71</td>\n",
              "      <td>63</td>\n",
              "      <td>113</td>\n",
              "      <td>307</td>\n",
              "      <td>574</td>\n",
              "      <td>1264</td>\n",
              "      <td>1816</td>\n",
              "      <td>1602</td>\n",
              "      <td>1021</td>\n",
              "      <td>853</td>\n",
              "      <td>1450</td>\n",
              "      <td>1223</td>\n",
              "      <td>856</td>\n",
              "      <td>702</td>\n",
              "      <td>560</td>\n",
              "      <td>716</td>\n",
              "      <td>561</td>\n",
              "      <td>539</td>\n",
              "      <td>620</td>\n",
              "      <td>603</td>\n",
              "      <td>15699</td>\n",
              "      <td>Low</td>\n",
              "    </tr>\n",
              "    <tr>\n",
              "      <th>2</th>\n",
              "      <td>Algeria</td>\n",
              "      <td>Africa</td>\n",
              "      <td>Northern Africa</td>\n",
              "      <td>Developing regions</td>\n",
              "      <td>80</td>\n",
              "      <td>67</td>\n",
              "      <td>71</td>\n",
              "      <td>69</td>\n",
              "      <td>63</td>\n",
              "      <td>44</td>\n",
              "      <td>69</td>\n",
              "      <td>132</td>\n",
              "      <td>242</td>\n",
              "      <td>434</td>\n",
              "      <td>491</td>\n",
              "      <td>872</td>\n",
              "      <td>795</td>\n",
              "      <td>717</td>\n",
              "      <td>595</td>\n",
              "      <td>1106</td>\n",
              "      <td>2054</td>\n",
              "      <td>1842</td>\n",
              "      <td>2292</td>\n",
              "      <td>2389</td>\n",
              "      <td>2867</td>\n",
              "      <td>3418</td>\n",
              "      <td>3406</td>\n",
              "      <td>3072</td>\n",
              "      <td>3616</td>\n",
              "      <td>3626</td>\n",
              "      <td>4807</td>\n",
              "      <td>3623</td>\n",
              "      <td>4005</td>\n",
              "      <td>5393</td>\n",
              "      <td>4752</td>\n",
              "      <td>4325</td>\n",
              "      <td>3774</td>\n",
              "      <td>4331</td>\n",
              "      <td>69439</td>\n",
              "      <td>Low</td>\n",
              "    </tr>\n",
              "    <tr>\n",
              "      <th>3</th>\n",
              "      <td>American Samoa</td>\n",
              "      <td>Oceania</td>\n",
              "      <td>Polynesia</td>\n",
              "      <td>Developing regions</td>\n",
              "      <td>0</td>\n",
              "      <td>1</td>\n",
              "      <td>0</td>\n",
              "      <td>0</td>\n",
              "      <td>0</td>\n",
              "      <td>0</td>\n",
              "      <td>0</td>\n",
              "      <td>1</td>\n",
              "      <td>0</td>\n",
              "      <td>1</td>\n",
              "      <td>2</td>\n",
              "      <td>0</td>\n",
              "      <td>0</td>\n",
              "      <td>0</td>\n",
              "      <td>0</td>\n",
              "      <td>0</td>\n",
              "      <td>0</td>\n",
              "      <td>0</td>\n",
              "      <td>0</td>\n",
              "      <td>0</td>\n",
              "      <td>0</td>\n",
              "      <td>0</td>\n",
              "      <td>0</td>\n",
              "      <td>0</td>\n",
              "      <td>0</td>\n",
              "      <td>0</td>\n",
              "      <td>1</td>\n",
              "      <td>0</td>\n",
              "      <td>0</td>\n",
              "      <td>0</td>\n",
              "      <td>0</td>\n",
              "      <td>0</td>\n",
              "      <td>0</td>\n",
              "      <td>0</td>\n",
              "      <td>6</td>\n",
              "      <td>Low</td>\n",
              "    </tr>\n",
              "    <tr>\n",
              "      <th>4</th>\n",
              "      <td>Andorra</td>\n",
              "      <td>Europe</td>\n",
              "      <td>Southern Europe</td>\n",
              "      <td>Developed regions</td>\n",
              "      <td>0</td>\n",
              "      <td>0</td>\n",
              "      <td>0</td>\n",
              "      <td>0</td>\n",
              "      <td>0</td>\n",
              "      <td>0</td>\n",
              "      <td>2</td>\n",
              "      <td>0</td>\n",
              "      <td>0</td>\n",
              "      <td>0</td>\n",
              "      <td>3</td>\n",
              "      <td>0</td>\n",
              "      <td>1</td>\n",
              "      <td>0</td>\n",
              "      <td>0</td>\n",
              "      <td>0</td>\n",
              "      <td>0</td>\n",
              "      <td>0</td>\n",
              "      <td>2</td>\n",
              "      <td>0</td>\n",
              "      <td>0</td>\n",
              "      <td>1</td>\n",
              "      <td>0</td>\n",
              "      <td>2</td>\n",
              "      <td>0</td>\n",
              "      <td>0</td>\n",
              "      <td>1</td>\n",
              "      <td>1</td>\n",
              "      <td>0</td>\n",
              "      <td>0</td>\n",
              "      <td>0</td>\n",
              "      <td>0</td>\n",
              "      <td>1</td>\n",
              "      <td>1</td>\n",
              "      <td>15</td>\n",
              "      <td>Low</td>\n",
              "    </tr>\n",
              "  </tbody>\n",
              "</table>\n",
              "</div>"
            ],
            "text/plain": [
              "          Country Continent           Region  ...  2013  Total  Migration_Rate\n",
              "0     Afghanistan      Asia    Southern Asia  ...  2004  58639             Low\n",
              "1         Albania    Europe  Southern Europe  ...   603  15699             Low\n",
              "2         Algeria    Africa  Northern Africa  ...  4331  69439             Low\n",
              "3  American Samoa   Oceania        Polynesia  ...     0      6             Low\n",
              "4         Andorra    Europe  Southern Europe  ...     1     15             Low\n",
              "\n",
              "[5 rows x 40 columns]"
            ]
          },
          "metadata": {
            "tags": []
          },
          "execution_count": 3
        }
      ]
    },
    {
      "cell_type": "markdown",
      "metadata": {
        "id": "YpgjTis8sNtH",
        "colab_type": "text"
      },
      "source": [
        "Since we may be referring often to columns from 1980 to 2013, let's save these as a list of strings"
      ]
    },
    {
      "cell_type": "code",
      "metadata": {
        "id": "lKpCYVQDsOdQ",
        "colab_type": "code",
        "colab": {}
      },
      "source": [
        "# Let's save the years columns from 1980 to 2013 in a variable called.. You guessed right! years\n",
        "years = [str(year) for year in range(1980,2014)]"
      ],
      "execution_count": 4,
      "outputs": []
    },
    {
      "cell_type": "markdown",
      "metadata": {
        "id": "c26huL3CsYaf",
        "colab_type": "text"
      },
      "source": [
        "For Part 5, we shall continue Explorative Data Analysis (EDA) and displaying visual plots that depict our analysis. The dataset we shall explore is the immigration to Canada dataset from 194 countries to Canada from 1980 to 2013."
      ]
    },
    {
      "cell_type": "markdown",
      "metadata": {
        "id": "ZVEp3I52sip-",
        "colab_type": "text"
      },
      "source": [
        "Next, let's set the index of the Dataframe to Country. So we can easily refer to countries by their names as we explore the data."
      ]
    },
    {
      "cell_type": "code",
      "metadata": {
        "id": "xxIR7cD6sdV-",
        "colab_type": "code",
        "colab": {
          "base_uri": "https://localhost:8080/",
          "height": 340
        },
        "outputId": "e9631866-e42d-4e84-88fb-4b4d45834956"
      },
      "source": [
        "canada_df.set_index('Country', drop=True, inplace=True)\n",
        "canada_df.head()"
      ],
      "execution_count": 5,
      "outputs": [
        {
          "output_type": "execute_result",
          "data": {
            "text/html": [
              "<div>\n",
              "<style scoped>\n",
              "    .dataframe tbody tr th:only-of-type {\n",
              "        vertical-align: middle;\n",
              "    }\n",
              "\n",
              "    .dataframe tbody tr th {\n",
              "        vertical-align: top;\n",
              "    }\n",
              "\n",
              "    .dataframe thead th {\n",
              "        text-align: right;\n",
              "    }\n",
              "</style>\n",
              "<table border=\"1\" class=\"dataframe\">\n",
              "  <thead>\n",
              "    <tr style=\"text-align: right;\">\n",
              "      <th></th>\n",
              "      <th>Continent</th>\n",
              "      <th>Region</th>\n",
              "      <th>Status</th>\n",
              "      <th>1980</th>\n",
              "      <th>1981</th>\n",
              "      <th>1982</th>\n",
              "      <th>1983</th>\n",
              "      <th>1984</th>\n",
              "      <th>1985</th>\n",
              "      <th>1986</th>\n",
              "      <th>1987</th>\n",
              "      <th>1988</th>\n",
              "      <th>1989</th>\n",
              "      <th>1990</th>\n",
              "      <th>1991</th>\n",
              "      <th>1992</th>\n",
              "      <th>1993</th>\n",
              "      <th>1994</th>\n",
              "      <th>1995</th>\n",
              "      <th>1996</th>\n",
              "      <th>1997</th>\n",
              "      <th>1998</th>\n",
              "      <th>1999</th>\n",
              "      <th>2000</th>\n",
              "      <th>2001</th>\n",
              "      <th>2002</th>\n",
              "      <th>2003</th>\n",
              "      <th>2004</th>\n",
              "      <th>2005</th>\n",
              "      <th>2006</th>\n",
              "      <th>2007</th>\n",
              "      <th>2008</th>\n",
              "      <th>2009</th>\n",
              "      <th>2010</th>\n",
              "      <th>2011</th>\n",
              "      <th>2012</th>\n",
              "      <th>2013</th>\n",
              "      <th>Total</th>\n",
              "      <th>Migration_Rate</th>\n",
              "    </tr>\n",
              "    <tr>\n",
              "      <th>Country</th>\n",
              "      <th></th>\n",
              "      <th></th>\n",
              "      <th></th>\n",
              "      <th></th>\n",
              "      <th></th>\n",
              "      <th></th>\n",
              "      <th></th>\n",
              "      <th></th>\n",
              "      <th></th>\n",
              "      <th></th>\n",
              "      <th></th>\n",
              "      <th></th>\n",
              "      <th></th>\n",
              "      <th></th>\n",
              "      <th></th>\n",
              "      <th></th>\n",
              "      <th></th>\n",
              "      <th></th>\n",
              "      <th></th>\n",
              "      <th></th>\n",
              "      <th></th>\n",
              "      <th></th>\n",
              "      <th></th>\n",
              "      <th></th>\n",
              "      <th></th>\n",
              "      <th></th>\n",
              "      <th></th>\n",
              "      <th></th>\n",
              "      <th></th>\n",
              "      <th></th>\n",
              "      <th></th>\n",
              "      <th></th>\n",
              "      <th></th>\n",
              "      <th></th>\n",
              "      <th></th>\n",
              "      <th></th>\n",
              "      <th></th>\n",
              "      <th></th>\n",
              "      <th></th>\n",
              "    </tr>\n",
              "  </thead>\n",
              "  <tbody>\n",
              "    <tr>\n",
              "      <th>Afghanistan</th>\n",
              "      <td>Asia</td>\n",
              "      <td>Southern Asia</td>\n",
              "      <td>Developing regions</td>\n",
              "      <td>16</td>\n",
              "      <td>39</td>\n",
              "      <td>39</td>\n",
              "      <td>47</td>\n",
              "      <td>71</td>\n",
              "      <td>340</td>\n",
              "      <td>496</td>\n",
              "      <td>741</td>\n",
              "      <td>828</td>\n",
              "      <td>1076</td>\n",
              "      <td>1028</td>\n",
              "      <td>1378</td>\n",
              "      <td>1170</td>\n",
              "      <td>713</td>\n",
              "      <td>858</td>\n",
              "      <td>1537</td>\n",
              "      <td>2212</td>\n",
              "      <td>2555</td>\n",
              "      <td>1999</td>\n",
              "      <td>2395</td>\n",
              "      <td>3326</td>\n",
              "      <td>4067</td>\n",
              "      <td>3697</td>\n",
              "      <td>3479</td>\n",
              "      <td>2978</td>\n",
              "      <td>3436</td>\n",
              "      <td>3009</td>\n",
              "      <td>2652</td>\n",
              "      <td>2111</td>\n",
              "      <td>1746</td>\n",
              "      <td>1758</td>\n",
              "      <td>2203</td>\n",
              "      <td>2635</td>\n",
              "      <td>2004</td>\n",
              "      <td>58639</td>\n",
              "      <td>Low</td>\n",
              "    </tr>\n",
              "    <tr>\n",
              "      <th>Albania</th>\n",
              "      <td>Europe</td>\n",
              "      <td>Southern Europe</td>\n",
              "      <td>Developed regions</td>\n",
              "      <td>1</td>\n",
              "      <td>0</td>\n",
              "      <td>0</td>\n",
              "      <td>0</td>\n",
              "      <td>0</td>\n",
              "      <td>0</td>\n",
              "      <td>1</td>\n",
              "      <td>2</td>\n",
              "      <td>2</td>\n",
              "      <td>3</td>\n",
              "      <td>3</td>\n",
              "      <td>21</td>\n",
              "      <td>56</td>\n",
              "      <td>96</td>\n",
              "      <td>71</td>\n",
              "      <td>63</td>\n",
              "      <td>113</td>\n",
              "      <td>307</td>\n",
              "      <td>574</td>\n",
              "      <td>1264</td>\n",
              "      <td>1816</td>\n",
              "      <td>1602</td>\n",
              "      <td>1021</td>\n",
              "      <td>853</td>\n",
              "      <td>1450</td>\n",
              "      <td>1223</td>\n",
              "      <td>856</td>\n",
              "      <td>702</td>\n",
              "      <td>560</td>\n",
              "      <td>716</td>\n",
              "      <td>561</td>\n",
              "      <td>539</td>\n",
              "      <td>620</td>\n",
              "      <td>603</td>\n",
              "      <td>15699</td>\n",
              "      <td>Low</td>\n",
              "    </tr>\n",
              "    <tr>\n",
              "      <th>Algeria</th>\n",
              "      <td>Africa</td>\n",
              "      <td>Northern Africa</td>\n",
              "      <td>Developing regions</td>\n",
              "      <td>80</td>\n",
              "      <td>67</td>\n",
              "      <td>71</td>\n",
              "      <td>69</td>\n",
              "      <td>63</td>\n",
              "      <td>44</td>\n",
              "      <td>69</td>\n",
              "      <td>132</td>\n",
              "      <td>242</td>\n",
              "      <td>434</td>\n",
              "      <td>491</td>\n",
              "      <td>872</td>\n",
              "      <td>795</td>\n",
              "      <td>717</td>\n",
              "      <td>595</td>\n",
              "      <td>1106</td>\n",
              "      <td>2054</td>\n",
              "      <td>1842</td>\n",
              "      <td>2292</td>\n",
              "      <td>2389</td>\n",
              "      <td>2867</td>\n",
              "      <td>3418</td>\n",
              "      <td>3406</td>\n",
              "      <td>3072</td>\n",
              "      <td>3616</td>\n",
              "      <td>3626</td>\n",
              "      <td>4807</td>\n",
              "      <td>3623</td>\n",
              "      <td>4005</td>\n",
              "      <td>5393</td>\n",
              "      <td>4752</td>\n",
              "      <td>4325</td>\n",
              "      <td>3774</td>\n",
              "      <td>4331</td>\n",
              "      <td>69439</td>\n",
              "      <td>Low</td>\n",
              "    </tr>\n",
              "    <tr>\n",
              "      <th>American Samoa</th>\n",
              "      <td>Oceania</td>\n",
              "      <td>Polynesia</td>\n",
              "      <td>Developing regions</td>\n",
              "      <td>0</td>\n",
              "      <td>1</td>\n",
              "      <td>0</td>\n",
              "      <td>0</td>\n",
              "      <td>0</td>\n",
              "      <td>0</td>\n",
              "      <td>0</td>\n",
              "      <td>1</td>\n",
              "      <td>0</td>\n",
              "      <td>1</td>\n",
              "      <td>2</td>\n",
              "      <td>0</td>\n",
              "      <td>0</td>\n",
              "      <td>0</td>\n",
              "      <td>0</td>\n",
              "      <td>0</td>\n",
              "      <td>0</td>\n",
              "      <td>0</td>\n",
              "      <td>0</td>\n",
              "      <td>0</td>\n",
              "      <td>0</td>\n",
              "      <td>0</td>\n",
              "      <td>0</td>\n",
              "      <td>0</td>\n",
              "      <td>0</td>\n",
              "      <td>0</td>\n",
              "      <td>1</td>\n",
              "      <td>0</td>\n",
              "      <td>0</td>\n",
              "      <td>0</td>\n",
              "      <td>0</td>\n",
              "      <td>0</td>\n",
              "      <td>0</td>\n",
              "      <td>0</td>\n",
              "      <td>6</td>\n",
              "      <td>Low</td>\n",
              "    </tr>\n",
              "    <tr>\n",
              "      <th>Andorra</th>\n",
              "      <td>Europe</td>\n",
              "      <td>Southern Europe</td>\n",
              "      <td>Developed regions</td>\n",
              "      <td>0</td>\n",
              "      <td>0</td>\n",
              "      <td>0</td>\n",
              "      <td>0</td>\n",
              "      <td>0</td>\n",
              "      <td>0</td>\n",
              "      <td>2</td>\n",
              "      <td>0</td>\n",
              "      <td>0</td>\n",
              "      <td>0</td>\n",
              "      <td>3</td>\n",
              "      <td>0</td>\n",
              "      <td>1</td>\n",
              "      <td>0</td>\n",
              "      <td>0</td>\n",
              "      <td>0</td>\n",
              "      <td>0</td>\n",
              "      <td>0</td>\n",
              "      <td>2</td>\n",
              "      <td>0</td>\n",
              "      <td>0</td>\n",
              "      <td>1</td>\n",
              "      <td>0</td>\n",
              "      <td>2</td>\n",
              "      <td>0</td>\n",
              "      <td>0</td>\n",
              "      <td>1</td>\n",
              "      <td>1</td>\n",
              "      <td>0</td>\n",
              "      <td>0</td>\n",
              "      <td>0</td>\n",
              "      <td>0</td>\n",
              "      <td>1</td>\n",
              "      <td>1</td>\n",
              "      <td>15</td>\n",
              "      <td>Low</td>\n",
              "    </tr>\n",
              "  </tbody>\n",
              "</table>\n",
              "</div>"
            ],
            "text/plain": [
              "               Continent           Region  ...  Total  Migration_Rate\n",
              "Country                                    ...                       \n",
              "Afghanistan         Asia    Southern Asia  ...  58639             Low\n",
              "Albania           Europe  Southern Europe  ...  15699             Low\n",
              "Algeria           Africa  Northern Africa  ...  69439             Low\n",
              "American Samoa   Oceania        Polynesia  ...      6             Low\n",
              "Andorra           Europe  Southern Europe  ...     15             Low\n",
              "\n",
              "[5 rows x 39 columns]"
            ]
          },
          "metadata": {
            "tags": []
          },
          "execution_count": 5
        }
      ]
    },
    {
      "cell_type": "code",
      "metadata": {
        "id": "DZbO3G91s3ol",
        "colab_type": "code",
        "colab": {
          "base_uri": "https://localhost:8080/",
          "height": 35
        },
        "outputId": "87eec9e2-4937-42de-b833-6dc91732dce9"
      },
      "source": [
        "\"\"\"\n",
        "If we want to remove the Country label above the index, we could simply do :-\n",
        "canada_df.index.name = None\n",
        "\"\"\""
      ],
      "execution_count": 6,
      "outputs": [
        {
          "output_type": "execute_result",
          "data": {
            "application/vnd.google.colaboratory.intrinsic+json": {
              "type": "string"
            },
            "text/plain": [
              "'\\nIf we want to remove the Country label above the index, we could simply do :-\\ncanada_df.index.name = None\\n'"
            ]
          },
          "metadata": {
            "tags": []
          },
          "execution_count": 6
        }
      ]
    },
    {
      "cell_type": "markdown",
      "metadata": {
        "id": "1JGzXtuQygG0",
        "colab_type": "text"
      },
      "source": [
        "<font color='yellow'><h3><b>3. Histogram:</b></h3></font>\n",
        "\n",
        "A Histogram is a way of representing the frequency distribution of a numeric data set. It works by partitioning the spread of the numeric data into bins, assigns each data point in the data set into bins and then counts the number of Data points that have been assigned to each bin.\n",
        "So the vertical axis is actually the frequency or the number of data points in each bin."
      ]
    },
    {
      "cell_type": "markdown",
      "metadata": {
        "id": "_fULf0lszBJ1",
        "colab_type": "text"
      },
      "source": [
        "**Question 1:** What is the frequency distribution of the number (population) of new immigrants from the various countries to Canada in 2013?\n",
        "\n",
        "Let's try to visualize the immigrations to Canada in the year 2013, using our data set... The easiest way to do that is with a histogram"
      ]
    },
    {
      "cell_type": "code",
      "metadata": {
        "id": "Vf3UwALytIur",
        "colab_type": "code",
        "colab": {}
      },
      "source": [
        "# Let's create a fontdict for the font style and properties\n",
        "\n",
        "dict_={'fontsize': 14,\n",
        "       'family': 'serif',\n",
        "        'fontweight' : 10,\n",
        "        'verticalalignment': 'baseline',\n",
        "      'color': 'darkred'}"
      ],
      "execution_count": 16,
      "outputs": []
    },
    {
      "cell_type": "code",
      "metadata": {
        "id": "0m5rC-MC2G_I",
        "colab_type": "code",
        "colab": {
          "base_uri": "https://localhost:8080/",
          "height": 390
        },
        "outputId": "2f4ffa35-6e62-4437-d291-d1d6d904bf5f"
      },
      "source": [
        "sns.set_style('ticks')\n",
        "df_2013 = canada_df[['2013']]\n",
        "df_2013.plot(kind='hist', figsize=(8,6))\n",
        "\n",
        "\n",
        "plt.title('Histogram of migrating Countries to Canada: 2013', fontdict=dict_)\n",
        "\n",
        "dict_['fontsize'] = 12\n",
        "plt.ylabel('Nunber of Immigrants', fontdict=dict_)\n",
        "plt.show()"
      ],
      "execution_count": 28,
      "outputs": [
        {
          "output_type": "display_data",
          "data": {
            "image/png": "[encoded data removed]",
            "text/plain": [
              "<Figure size 576x432 with 1 Axes>"
            ]
          },
          "metadata": {
            "tags": []
          }
        }
      ]
    },
    {
      "cell_type": "markdown",
      "metadata": {
        "id": "MwmXkBiW9_Si",
        "colab_type": "text"
      },
      "source": [
        "But notice how the bins are not aligned with the tick marks of the horizontal axis. This can make it hard to read. So lets try to fix this in order to make the histogram more effective.\n",
        "One way to solve this is to borrow the histogram function from numpy library"
      ]
    },
    {
      "cell_type": "code",
      "metadata": {
        "id": "PNI_Omip--YO",
        "colab_type": "code",
        "colab": {
          "base_uri": "https://localhost:8080/",
          "height": 235
        },
        "outputId": "a276a156-d560-4b32-fd66-add2669362f0"
      },
      "source": [
        "df_2013.head()"
      ],
      "execution_count": 24,
      "outputs": [
        {
          "output_type": "execute_result",
          "data": {
            "text/html": [
              "<div>\n",
              "<style scoped>\n",
              "    .dataframe tbody tr th:only-of-type {\n",
              "        vertical-align: middle;\n",
              "    }\n",
              "\n",
              "    .dataframe tbody tr th {\n",
              "        vertical-align: top;\n",
              "    }\n",
              "\n",
              "    .dataframe thead th {\n",
              "        text-align: right;\n",
              "    }\n",
              "</style>\n",
              "<table border=\"1\" class=\"dataframe\">\n",
              "  <thead>\n",
              "    <tr style=\"text-align: right;\">\n",
              "      <th></th>\n",
              "      <th>2013</th>\n",
              "    </tr>\n",
              "    <tr>\n",
              "      <th>Country</th>\n",
              "      <th></th>\n",
              "    </tr>\n",
              "  </thead>\n",
              "  <tbody>\n",
              "    <tr>\n",
              "      <th>Afghanistan</th>\n",
              "      <td>2004</td>\n",
              "    </tr>\n",
              "    <tr>\n",
              "      <th>Albania</th>\n",
              "      <td>603</td>\n",
              "    </tr>\n",
              "    <tr>\n",
              "      <th>Algeria</th>\n",
              "      <td>4331</td>\n",
              "    </tr>\n",
              "    <tr>\n",
              "      <th>American Samoa</th>\n",
              "      <td>0</td>\n",
              "    </tr>\n",
              "    <tr>\n",
              "      <th>Andorra</th>\n",
              "      <td>1</td>\n",
              "    </tr>\n",
              "  </tbody>\n",
              "</table>\n",
              "</div>"
            ],
            "text/plain": [
              "                2013\n",
              "Country             \n",
              "Afghanistan     2004\n",
              "Albania          603\n",
              "Algeria         4331\n",
              "American Samoa     0\n",
              "Andorra            1"
            ]
          },
          "metadata": {
            "tags": []
          },
          "execution_count": 24
        }
      ]
    },
    {
      "cell_type": "code",
      "metadata": {
        "id": "vw4imXqG-ADh",
        "colab_type": "code",
        "colab": {
          "base_uri": "https://localhost:8080/",
          "height": 51
        },
        "outputId": "bf3768f8-b521-47cc-a2f1-470d642d8886"
      },
      "source": [
        "count, bin_edges = np.histogram(df_2013['2013'])\n",
        "print('Count is:',count, 'and Bin-edges is:', bin_edges)"
      ],
      "execution_count": 25,
      "outputs": [
        {
          "output_type": "stream",
          "text": [
            "Count is: [178  11   1   2   0   0   0   0   1   2] and Bin-edges is: [    0.   3412.9  6825.8 10238.7 13651.6 17064.5 20477.4 23890.3 27303.2\n",
            " 30716.1 34129. ]\n"
          ],
          "name": "stdout"
        }
      ]
    },
    {
      "cell_type": "markdown",
      "metadata": {
        "id": "S8arJt3XAEsO",
        "colab_type": "text"
      },
      "source": [
        "By default, the `histrogram` method breaks up the dataset into 10 bins. The figure below summarizes the bin ranges and the frequency distribution of immigration in 2013. We can see that in 2013:\n",
        "* 178 countries contributed between 0 to 3412.9 immigrants \n",
        "* 11 countries contributed between 3412.9 to 6825.8 immigrants\n",
        "* 1 country contributed between 27303.2 to 30716.1 immigrants,\n",
        "* And 2 countries contributed between 30716.1 and 34129 immigrants.."
      ]
    },
    {
      "cell_type": "code",
      "metadata": {
        "id": "-ffzIgb3AFmR",
        "colab_type": "code",
        "colab": {
          "base_uri": "https://localhost:8080/",
          "height": 235
        },
        "outputId": "43ff6968-db79-4df5-e7d5-bd8a2510d356"
      },
      "source": [
        "df_2013.sort_values(by='2013', ascending=False).head()"
      ],
      "execution_count": 26,
      "outputs": [
        {
          "output_type": "execute_result",
          "data": {
            "text/html": [
              "<div>\n",
              "<style scoped>\n",
              "    .dataframe tbody tr th:only-of-type {\n",
              "        vertical-align: middle;\n",
              "    }\n",
              "\n",
              "    .dataframe tbody tr th {\n",
              "        vertical-align: top;\n",
              "    }\n",
              "\n",
              "    .dataframe thead th {\n",
              "        text-align: right;\n",
              "    }\n",
              "</style>\n",
              "<table border=\"1\" class=\"dataframe\">\n",
              "  <thead>\n",
              "    <tr style=\"text-align: right;\">\n",
              "      <th></th>\n",
              "      <th>2013</th>\n",
              "    </tr>\n",
              "    <tr>\n",
              "      <th>Country</th>\n",
              "      <th></th>\n",
              "    </tr>\n",
              "  </thead>\n",
              "  <tbody>\n",
              "    <tr>\n",
              "      <th>China</th>\n",
              "      <td>34129</td>\n",
              "    </tr>\n",
              "    <tr>\n",
              "      <th>India</th>\n",
              "      <td>33087</td>\n",
              "    </tr>\n",
              "    <tr>\n",
              "      <th>Philippines</th>\n",
              "      <td>29544</td>\n",
              "    </tr>\n",
              "    <tr>\n",
              "      <th>Pakistan</th>\n",
              "      <td>12603</td>\n",
              "    </tr>\n",
              "    <tr>\n",
              "      <th>Iran (Islamic Republic of)</th>\n",
              "      <td>11291</td>\n",
              "    </tr>\n",
              "  </tbody>\n",
              "</table>\n",
              "</div>"
            ],
            "text/plain": [
              "                             2013\n",
              "Country                          \n",
              "China                       34129\n",
              "India                       33087\n",
              "Philippines                 29544\n",
              "Pakistan                    12603\n",
              "Iran (Islamic Republic of)  11291"
            ]
          },
          "metadata": {
            "tags": []
          },
          "execution_count": 26
        }
      ]
    },
    {
      "cell_type": "markdown",
      "metadata": {
        "id": "4iXAoV9yBUh8",
        "colab_type": "text"
      },
      "source": [
        "And from the above sorting exercise, we can see the two countries that contributed between 30716.1 and 34129 immigrants (China and india) in 2013. As well as the single country that contributed between 27303.2 and 30716.1 immigrants (Philippines)."
      ]
    },
    {
      "cell_type": "markdown",
      "metadata": {
        "id": "5mUGuTryCBHH",
        "colab_type": "text"
      },
      "source": [
        "So let's replot the histogram using the bin-edges from numpy. Then we can add some little customizations like `edge-color` and `linewidth`"
      ]
    },
    {
      "cell_type": "code",
      "metadata": {
        "id": "bZFuOWRSBvyo",
        "colab_type": "code",
        "colab": {
          "base_uri": "https://localhost:8080/",
          "height": 390
        },
        "outputId": "bc7b02ab-ead6-46e2-f276-1a9242e23e58"
      },
      "source": [
        "df_2013.plot(kind='hist', figsize=(8, 6), xticks= bin_edges, edgecolor='red', linewidth=1.2)\n",
        "\n",
        "plt.title(\"Histogram showing Migrations to Canada in 2013\", fontdict=dict_)\n",
        "\n",
        "dict_['fontsize'] = 12\n",
        "plt.ylabel('Number of Countries', fontdict=dict_)\n",
        "\n",
        "plt.show()"
      ],
      "execution_count": 37,
      "outputs": [
        {
          "output_type": "display_data",
          "data": {
            "image/png": "[encoded data removed]",
            "text/plain": [
              "<Figure size 576x432 with 1 Axes>"
            ]
          },
          "metadata": {
            "tags": []
          }
        }
      ]
    },
    {
      "cell_type": "markdown",
      "metadata": {
        "id": "JM48dgHmDuDm",
        "colab_type": "text"
      },
      "source": [
        "<h4>More on the Plot() method:</h4>\n"
      ]
    },
    {
      "cell_type": "markdown",
      "metadata": {
        "id": "gGgsGLKfGZbQ",
        "colab_type": "text"
      },
      "source": [
        "Note that we can also use the plot method with a chart function directly, chained together. For example, we can do `df_2013.plot.hist()` directly. This can also be done for all the charts callable by the plot method such as:\n",
        "1. Area\n",
        "2. bar\n",
        "3. barh\n",
        "4. Box\n",
        "5. Density\n",
        "6. Hexbin\n",
        "7. Hist\n",
        "8. KDE\n",
        "9. Pie \n",
        "10. Scatter\n",
        "\n",
        "Let's try it on the histogram and even change the color of the histograms to aqua."
      ]
    },
    {
      "cell_type": "code",
      "metadata": {
        "id": "FtU4ktkrENWr",
        "colab_type": "code",
        "colab": {
          "base_uri": "https://localhost:8080/",
          "height": 390
        },
        "outputId": "381e48fb-d69f-4016-fff2-b3730d05684a"
      },
      "source": [
        "df_2013.plot.hist(xticks=bin_edges, figsize=(8, 6), edgecolor='red', linewidth=1.2, color='aqua')\n",
        "\n",
        "plt.title(\"Histogram showing Migrations to Canada in 2013\", fontdict=dict_)\n",
        "\n",
        "dict_['fontsize'] = 12\n",
        "plt.ylabel('Number of Countries', fontdict=dict_)\n",
        "\n",
        "plt.show()"
      ],
      "execution_count": 44,
      "outputs": [
        {
          "output_type": "display_data",
          "data": {
            "image/png": "[encoded data removed]",
            "text/plain": [
              "<Figure size 576x432 with 1 Axes>"
            ]
          },
          "metadata": {
            "tags": []
          }
        }
      ]
    },
    {
      "cell_type": "markdown",
      "metadata": {
        "id": "hyWl5eBwJMuC",
        "colab_type": "text"
      },
      "source": [
        "We can further customise our ticks to texts that display some data, <br>for example converting 3413 of the first x-tick label above to '3k+' and do on. "
      ]
    },
    {
      "cell_type": "code",
      "metadata": {
        "id": "ha6iNDJgFN6b",
        "colab_type": "code",
        "colab": {
          "base_uri": "https://localhost:8080/",
          "height": 390
        },
        "outputId": "e7a75481-3741-4065-9e71-fca945e11bc2"
      },
      "source": [
        "df_2013.plot.hist(figsize=(8, 6), edgecolor='red', linewidth=1.2, color='gray')\n",
        "\n",
        "plt.title(\"Histogram showing Migrations to Canada in 2013\", fontdict=dict_)\n",
        "plt.xticks(bin_edges, ['3k+', '6k+', '10k+', '13k+', '17k+', '20k+', '23k+', '27k+', '30k+', '34k+'])\n",
        "\n",
        "dict_['fontsize'] = 12\n",
        "plt.ylabel('Number of Countries', fontdict=dict_)\n",
        "\n",
        "plt.show()"
      ],
      "execution_count": 45,
      "outputs": [
        {
          "output_type": "display_data",
          "data": {
            "image/png": "[encoded data removed]",
            "text/plain": [
              "<Figure size 576x432 with 1 Axes>"
            ]
          },
          "metadata": {
            "tags": []
          }
        }
      ]
    },
    {
      "cell_type": "markdown",
      "metadata": {
        "id": "esqyNbTPNran",
        "colab_type": "text"
      },
      "source": [
        "<h3>STACKED and UN-STACKED HISTOGRAMS</h3>"
      ]
    },
    {
      "cell_type": "markdown",
      "metadata": {
        "id": "R5Yb4ms4KaBt",
        "colab_type": "text"
      },
      "source": [
        "**Question2:** What is the immigration distribution for Nigeria, Ghana, and Kenya for years 1980 - 2013?"
      ]
    },
    {
      "cell_type": "code",
      "metadata": {
        "id": "xbTk2lzeKhSE",
        "colab_type": "code",
        "colab": {
          "base_uri": "https://localhost:8080/",
          "height": 193
        },
        "outputId": "f014a10c-3878-4d5c-be61-25485bae0abf"
      },
      "source": [
        "df_NigGhaKen = canada_df.loc[['Nigeria', 'Ghana', 'Kenya'], years]\n",
        "df_NigGhaKen.head()"
      ],
      "execution_count": 49,
      "outputs": [
        {
          "output_type": "execute_result",
          "data": {
            "text/html": [
              "<div>\n",
              "<style scoped>\n",
              "    .dataframe tbody tr th:only-of-type {\n",
              "        vertical-align: middle;\n",
              "    }\n",
              "\n",
              "    .dataframe tbody tr th {\n",
              "        vertical-align: top;\n",
              "    }\n",
              "\n",
              "    .dataframe thead th {\n",
              "        text-align: right;\n",
              "    }\n",
              "</style>\n",
              "<table border=\"1\" class=\"dataframe\">\n",
              "  <thead>\n",
              "    <tr style=\"text-align: right;\">\n",
              "      <th></th>\n",
              "      <th>1980</th>\n",
              "      <th>1981</th>\n",
              "      <th>1982</th>\n",
              "      <th>1983</th>\n",
              "      <th>1984</th>\n",
              "      <th>1985</th>\n",
              "      <th>1986</th>\n",
              "      <th>1987</th>\n",
              "      <th>1988</th>\n",
              "      <th>1989</th>\n",
              "      <th>1990</th>\n",
              "      <th>1991</th>\n",
              "      <th>1992</th>\n",
              "      <th>1993</th>\n",
              "      <th>1994</th>\n",
              "      <th>1995</th>\n",
              "      <th>1996</th>\n",
              "      <th>1997</th>\n",
              "      <th>1998</th>\n",
              "      <th>1999</th>\n",
              "      <th>2000</th>\n",
              "      <th>2001</th>\n",
              "      <th>2002</th>\n",
              "      <th>2003</th>\n",
              "      <th>2004</th>\n",
              "      <th>2005</th>\n",
              "      <th>2006</th>\n",
              "      <th>2007</th>\n",
              "      <th>2008</th>\n",
              "      <th>2009</th>\n",
              "      <th>2010</th>\n",
              "      <th>2011</th>\n",
              "      <th>2012</th>\n",
              "      <th>2013</th>\n",
              "    </tr>\n",
              "    <tr>\n",
              "      <th>Country</th>\n",
              "      <th></th>\n",
              "      <th></th>\n",
              "      <th></th>\n",
              "      <th></th>\n",
              "      <th></th>\n",
              "      <th></th>\n",
              "      <th></th>\n",
              "      <th></th>\n",
              "      <th></th>\n",
              "      <th></th>\n",
              "      <th></th>\n",
              "      <th></th>\n",
              "      <th></th>\n",
              "      <th></th>\n",
              "      <th></th>\n",
              "      <th></th>\n",
              "      <th></th>\n",
              "      <th></th>\n",
              "      <th></th>\n",
              "      <th></th>\n",
              "      <th></th>\n",
              "      <th></th>\n",
              "      <th></th>\n",
              "      <th></th>\n",
              "      <th></th>\n",
              "      <th></th>\n",
              "      <th></th>\n",
              "      <th></th>\n",
              "      <th></th>\n",
              "      <th></th>\n",
              "      <th></th>\n",
              "      <th></th>\n",
              "      <th></th>\n",
              "      <th></th>\n",
              "    </tr>\n",
              "  </thead>\n",
              "  <tbody>\n",
              "    <tr>\n",
              "      <th>Nigeria</th>\n",
              "      <td>81</td>\n",
              "      <td>60</td>\n",
              "      <td>58</td>\n",
              "      <td>58</td>\n",
              "      <td>78</td>\n",
              "      <td>78</td>\n",
              "      <td>114</td>\n",
              "      <td>149</td>\n",
              "      <td>122</td>\n",
              "      <td>195</td>\n",
              "      <td>181</td>\n",
              "      <td>281</td>\n",
              "      <td>498</td>\n",
              "      <td>428</td>\n",
              "      <td>323</td>\n",
              "      <td>430</td>\n",
              "      <td>531</td>\n",
              "      <td>657</td>\n",
              "      <td>757</td>\n",
              "      <td>966</td>\n",
              "      <td>1182</td>\n",
              "      <td>1426</td>\n",
              "      <td>1403</td>\n",
              "      <td>1064</td>\n",
              "      <td>1518</td>\n",
              "      <td>2236</td>\n",
              "      <td>2594</td>\n",
              "      <td>2375</td>\n",
              "      <td>2109</td>\n",
              "      <td>3156</td>\n",
              "      <td>3906</td>\n",
              "      <td>3103</td>\n",
              "      <td>3443</td>\n",
              "      <td>4172</td>\n",
              "    </tr>\n",
              "    <tr>\n",
              "      <th>Ghana</th>\n",
              "      <td>172</td>\n",
              "      <td>196</td>\n",
              "      <td>98</td>\n",
              "      <td>122</td>\n",
              "      <td>116</td>\n",
              "      <td>172</td>\n",
              "      <td>215</td>\n",
              "      <td>970</td>\n",
              "      <td>408</td>\n",
              "      <td>429</td>\n",
              "      <td>449</td>\n",
              "      <td>1134</td>\n",
              "      <td>2502</td>\n",
              "      <td>2201</td>\n",
              "      <td>1341</td>\n",
              "      <td>1475</td>\n",
              "      <td>1219</td>\n",
              "      <td>1274</td>\n",
              "      <td>1040</td>\n",
              "      <td>845</td>\n",
              "      <td>959</td>\n",
              "      <td>782</td>\n",
              "      <td>696</td>\n",
              "      <td>564</td>\n",
              "      <td>738</td>\n",
              "      <td>851</td>\n",
              "      <td>710</td>\n",
              "      <td>688</td>\n",
              "      <td>629</td>\n",
              "      <td>659</td>\n",
              "      <td>802</td>\n",
              "      <td>528</td>\n",
              "      <td>531</td>\n",
              "      <td>517</td>\n",
              "    </tr>\n",
              "    <tr>\n",
              "      <th>Kenya</th>\n",
              "      <td>291</td>\n",
              "      <td>296</td>\n",
              "      <td>221</td>\n",
              "      <td>201</td>\n",
              "      <td>218</td>\n",
              "      <td>245</td>\n",
              "      <td>244</td>\n",
              "      <td>628</td>\n",
              "      <td>984</td>\n",
              "      <td>1140</td>\n",
              "      <td>869</td>\n",
              "      <td>605</td>\n",
              "      <td>529</td>\n",
              "      <td>478</td>\n",
              "      <td>414</td>\n",
              "      <td>434</td>\n",
              "      <td>369</td>\n",
              "      <td>223</td>\n",
              "      <td>203</td>\n",
              "      <td>310</td>\n",
              "      <td>495</td>\n",
              "      <td>651</td>\n",
              "      <td>630</td>\n",
              "      <td>678</td>\n",
              "      <td>685</td>\n",
              "      <td>693</td>\n",
              "      <td>622</td>\n",
              "      <td>449</td>\n",
              "      <td>453</td>\n",
              "      <td>489</td>\n",
              "      <td>507</td>\n",
              "      <td>585</td>\n",
              "      <td>725</td>\n",
              "      <td>664</td>\n",
              "    </tr>\n",
              "  </tbody>\n",
              "</table>\n",
              "</div>"
            ],
            "text/plain": [
              "         1980  1981  1982  1983  1984  1985  ...  2008  2009  2010  2011  2012  2013\n",
              "Country                                      ...                                    \n",
              "Nigeria    81    60    58    58    78    78  ...  2109  3156  3906  3103  3443  4172\n",
              "Ghana     172   196    98   122   116   172  ...   629   659   802   528   531   517\n",
              "Kenya     291   296   221   201   218   245  ...   453   489   507   585   725   664\n",
              "\n",
              "[3 rows x 34 columns]"
            ]
          },
          "metadata": {
            "tags": []
          },
          "execution_count": 49
        }
      ]
    },
    {
      "cell_type": "markdown",
      "metadata": {
        "id": "wXurEGdLLv4z",
        "colab_type": "text"
      },
      "source": [
        "Let's transpose the DataFrame"
      ]
    },
    {
      "cell_type": "code",
      "metadata": {
        "id": "Y7hJXAhcLn9e",
        "colab_type": "code",
        "colab": {
          "base_uri": "https://localhost:8080/",
          "height": 204
        },
        "outputId": "d045b5f3-fdf4-4de5-f3a3-a9e9f705c368"
      },
      "source": [
        "df_NigGhaKen = df_NigGhaKen.T\n",
        "df_NigGhaKen.head()"
      ],
      "execution_count": 51,
      "outputs": [
        {
          "output_type": "execute_result",
          "data": {
            "text/html": [
              "<div>\n",
              "<style scoped>\n",
              "    .dataframe tbody tr th:only-of-type {\n",
              "        vertical-align: middle;\n",
              "    }\n",
              "\n",
              "    .dataframe tbody tr th {\n",
              "        vertical-align: top;\n",
              "    }\n",
              "\n",
              "    .dataframe thead th {\n",
              "        text-align: right;\n",
              "    }\n",
              "</style>\n",
              "<table border=\"1\" class=\"dataframe\">\n",
              "  <thead>\n",
              "    <tr style=\"text-align: right;\">\n",
              "      <th>Country</th>\n",
              "      <th>Nigeria</th>\n",
              "      <th>Ghana</th>\n",
              "      <th>Kenya</th>\n",
              "    </tr>\n",
              "  </thead>\n",
              "  <tbody>\n",
              "    <tr>\n",
              "      <th>1980</th>\n",
              "      <td>81</td>\n",
              "      <td>172</td>\n",
              "      <td>291</td>\n",
              "    </tr>\n",
              "    <tr>\n",
              "      <th>1981</th>\n",
              "      <td>60</td>\n",
              "      <td>196</td>\n",
              "      <td>296</td>\n",
              "    </tr>\n",
              "    <tr>\n",
              "      <th>1982</th>\n",
              "      <td>58</td>\n",
              "      <td>98</td>\n",
              "      <td>221</td>\n",
              "    </tr>\n",
              "    <tr>\n",
              "      <th>1983</th>\n",
              "      <td>58</td>\n",
              "      <td>122</td>\n",
              "      <td>201</td>\n",
              "    </tr>\n",
              "    <tr>\n",
              "      <th>1984</th>\n",
              "      <td>78</td>\n",
              "      <td>116</td>\n",
              "      <td>218</td>\n",
              "    </tr>\n",
              "  </tbody>\n",
              "</table>\n",
              "</div>"
            ],
            "text/plain": [
              "Country  Nigeria  Ghana  Kenya\n",
              "1980          81    172    291\n",
              "1981          60    196    296\n",
              "1982          58     98    221\n",
              "1983          58    122    201\n",
              "1984          78    116    218"
            ]
          },
          "metadata": {
            "tags": []
          },
          "execution_count": 51
        }
      ]
    },
    {
      "cell_type": "markdown",
      "metadata": {
        "id": "OPPZICMiMHcF",
        "colab_type": "text"
      },
      "source": [
        "Once again, let's borrow the bin-edges from numpy and plot the histogram for NigGhaKen"
      ]
    },
    {
      "cell_type": "code",
      "metadata": {
        "id": "7ckMTFxVMPlg",
        "colab_type": "code",
        "colab": {
          "base_uri": "https://localhost:8080/",
          "height": 68
        },
        "outputId": "eee4ce1f-6183-452d-ab41-14d2b5c0d94f"
      },
      "source": [
        "count, bin_edges = np.histogram(df_NigGhaKen)\n",
        "\n",
        "print(f'Count is {count}\\nBin-edges is {bin_edges}')"
      ],
      "execution_count": 52,
      "outputs": [
        {
          "output_type": "stream",
          "text": [
            "Count is [40 35 11  5  1  4  1  2  1  2]\n",
            "Bin-edges is [  58.   469.4  880.8 1292.2 1703.6 2115.  2526.4 2937.8 3349.2 3760.6\n",
            " 4172. ]\n"
          ],
          "name": "stdout"
        }
      ]
    },
    {
      "cell_type": "markdown",
      "metadata": {
        "id": "3_Q_XYh9MtJL",
        "colab_type": "text"
      },
      "source": [
        "Let's plot the histogram"
      ]
    },
    {
      "cell_type": "code",
      "metadata": {
        "id": "W5ZttfV0Niwy",
        "colab_type": "code",
        "colab": {
          "base_uri": "https://localhost:8080/",
          "height": 404
        },
        "outputId": "81e19b50-13b0-4834-f48e-ee47f667bfbf"
      },
      "source": [
        "df_NigGhaKen.plot(kind='hist', figsize=(10, 6), xticks=bin_edges)\n",
        "\n",
        "plt.title('Histplot of migrations from Nigeria, Ghana, and Kenya from (1980 - 2013)')\n",
        "plt.ylabel('Number of Years')\n",
        "plt.xlabel('Number of Immigrants')\n",
        "\n",
        "plt.show()"
      ],
      "execution_count": 53,
      "outputs": [
        {
          "output_type": "display_data",
          "data": {
            "image/png": "[encoded data removed]",
            "text/plain": [
              "<Figure size 720x432 with 1 Axes>"
            ]
          },
          "metadata": {
            "tags": []
          }
        }
      ]
    },
    {
      "cell_type": "markdown",
      "metadata": {
        "id": "1foZ1G4FemLd",
        "colab_type": "text"
      },
      "source": [
        "<b>Let's make a few modifications to improve the impact and aesthetics of the previous plot:\n",
        "* increase the bin size to 15 by passing in `bins` parameter\n",
        "* set transparency to 60% by passing in `alpha` paramemter\n",
        "* label the x-axis by passing in `x-label` paramater\n",
        "* change the colors of the plots by passing in `color` parameter</b>"
      ]
    },
    {
      "cell_type": "code",
      "metadata": {
        "id": "hfZ96m8DRETk",
        "colab_type": "code",
        "colab": {
          "base_uri": "https://localhost:8080/",
          "height": 102
        },
        "outputId": "fcdbdc12-1576-4e27-c255-93552bfa9372"
      },
      "source": [
        "# Let's adjust the binsize and the xticks value to 15, since we want 15 bins\n",
        "\n",
        "count, bin_edges = np.histogram(df_NigGhaKen, 15)\n",
        "\n",
        "print('Count is:', count)\n",
        "print('Bin-Edges is:', bin_edges)"
      ],
      "execution_count": 65,
      "outputs": [
        {
          "output_type": "stream",
          "text": [
            "Count is: [30 23 22  8  6  2  0  3  2  1  0  2  1  0  2]\n",
            "Bin-Edges is: [  58.          332.26666667  606.53333333  880.8        1155.06666667\n",
            " 1429.33333333 1703.6        1977.86666667 2252.13333333 2526.4\n",
            " 2800.66666667 3074.93333333 3349.2        3623.46666667 3897.73333333\n",
            " 4172.        ]\n"
          ],
          "name": "stdout"
        }
      ]
    },
    {
      "cell_type": "markdown",
      "metadata": {
        "id": "fs5cdFPzmaqC",
        "colab_type": "text"
      },
      "source": [
        "<h5>UNSTACKED HISTOGRAMS</h5>"
      ]
    },
    {
      "cell_type": "markdown",
      "metadata": {
        "id": "Sj8TinbifHvT",
        "colab_type": "text"
      },
      "source": [
        "Lets Re-plot the histogram passing in alpha and color parameters\n",
        "This is an Unstacked-Histogram."
      ]
    },
    {
      "cell_type": "code",
      "metadata": {
        "id": "3pfDZe6WX3Ie",
        "colab_type": "code",
        "colab": {
          "base_uri": "https://localhost:8080/",
          "height": 404
        },
        "outputId": "8b6d35a2-150b-46a4-f5c8-599516095f7b"
      },
      "source": [
        "df_NigGhaKen.plot(kind='hist', \n",
        "                  figsize=(10, 6), \n",
        "                  xticks=bin_edges, \n",
        "                  color=['coral', 'darkslateblue', 'mediumseagreen'],\n",
        "                 alpha=0.5,\n",
        "                 bins=15)\n",
        "\n",
        "plt.title('Histplot of migrations from Nigeria, Ghana, and Kenya (1980 - 2013)')\n",
        "plt.ylabel('Number of Years')\n",
        "plt.xlabel('Number of Immigrants')\n",
        "\n",
        "plt.show()"
      ],
      "execution_count": 87,
      "outputs": [
        {
          "output_type": "display_data",
          "data": {
            "image/png": "[encoded data removed]",
            "text/plain": [
              "<Figure size 720x432 with 1 Axes>"
            ]
          },
          "metadata": {
            "tags": []
          }
        }
      ]
    },
    {
      "cell_type": "markdown",
      "metadata": {
        "id": "6QbiWs0Ig1HI",
        "colab_type": "text"
      },
      "source": [
        "So it's clear that by spreading the bins, and adding alpha to the stacked histograms, we can clearly see the distribution of data. For example:\n",
        "\n",
        "1. Nigeria has 13 years between 1980 to 2013 with a range of 28 to 332 immigrants.\n",
        "2. Ghana has 7 years between 1980 to 2013 with same range of immigrants\n",
        "3. Kenya also has 10 years with same range of immigrants."
      ]
    },
    {
      "cell_type": "code",
      "metadata": {
        "id": "5lfKbylqfl2j",
        "colab_type": "code",
        "colab": {
          "base_uri": "https://localhost:8080/",
          "height": 68
        },
        "outputId": "139dc696-e53a-4e92-c81c-7bf5de50cae5"
      },
      "source": [
        "# let's prove the above statements\n",
        "Gha_bin_1 = [i for i in df_NigGhaKen['Ghana'] if i >= 58 and i <= 332]\n",
        "Ken_bin_1 = [i for i in df_NigGhaKen['Kenya'] if i >= 58 and i <= 332]\n",
        "Nig_bin_1 = [i for i in df_NigGhaKen['Nigeria'] if i >= 58 and i <= 332]\n",
        "\n",
        "print(f'For Nigeria: Bin one has {len(Nig_bin_1)} immigrants.\\nFor Ghana: Bin one has {len(Gha_bin_1)} immigrants.\\nFor Kenya: Bin one has {len(Ken_bin_1)} immigrants')"
      ],
      "execution_count": 76,
      "outputs": [
        {
          "output_type": "stream",
          "text": [
            "For Nigeria: Bin one has 13 immigrants.\n",
            "For Ghana: Bin one has 7 immigrants.\n",
            "For Kenya: Bin one has 10 immigrants\n"
          ],
          "name": "stdout"
        }
      ]
    },
    {
      "cell_type": "markdown",
      "metadata": {
        "id": "tz1I4787nJVO",
        "colab_type": "text"
      },
      "source": [
        "<h5>STACKED HISTOGRAMS</h5>"
      ]
    },
    {
      "cell_type": "markdown",
      "metadata": {
        "id": "6qGYniCCkLmO",
        "colab_type": "text"
      },
      "source": [
        "If we do not want the plots to overlap each other, we can stack them using the stacked parameter. Let's also adjust the min and max x-axis labels to remove the extra gap on the edges of the plot. We can pass a tuple (min,max) using the xlim parameter, as show below."
      ]
    },
    {
      "cell_type": "code",
      "metadata": {
        "id": "xfSCYyq8kMfN",
        "colab_type": "code",
        "colab": {}
      },
      "source": [
        "count, bin_edges = np.histogram(df_NigGhaKen, 15)\n",
        "\n",
        "xmin = bin_edges[0] -10  #  first bin value is 58.0, adding buffer of 10 for aesthetic purposes\n",
        "\n",
        "xmax = bin_edges[-1] +10  #  last bin value is 4172.0, adding buffer of 10 for aesthetic purposes"
      ],
      "execution_count": 85,
      "outputs": []
    },
    {
      "cell_type": "code",
      "metadata": {
        "id": "Q3A7WBP7k8WU",
        "colab_type": "code",
        "colab": {
          "base_uri": "https://localhost:8080/",
          "height": 404
        },
        "outputId": "df574d60-c5fa-4613-eb83-199714eb1dab"
      },
      "source": [
        "df_NigGhaKen.plot(kind='hist', \n",
        "                  figsize=(10, 6), \n",
        "                  xticks=bin_edges, \n",
        "                  color=['coral', 'darkslateblue', 'mediumseagreen'],\n",
        "                 bins=15,\n",
        "                 stacked=True,\n",
        "                 xlim=(xmin, xmax))\n",
        "\n",
        "plt.title('Histplot of migrations from Nigeria, Ghana, and Kenya (1980 - 2013)')\n",
        "plt.ylabel('Number of Years')\n",
        "plt.xlabel('Number of Immigrants')\n",
        "\n",
        "plt.show()"
      ],
      "execution_count": 86,
      "outputs": [
        {
          "output_type": "display_data",
          "data": {
            "image/png": "[encoded data removed]",
            "text/plain": [
              "<Figure size 720x432 with 1 Axes>"
            ]
          },
          "metadata": {
            "tags": []
          }
        }
      ]
    },
    {
      "cell_type": "markdown",
      "metadata": {
        "id": "p1IVYO4FoCD3",
        "colab_type": "text"
      },
      "source": [
        "**Question 3:** Use the scripting layer to display the immigration distribution for Greece, Albania, and Bulgaria for years 1980 - 2013? Use an overlapping plot with 15 bins and a transparency value of 0.35."
      ]
    },
    {
      "cell_type": "code",
      "metadata": {
        "id": "__WmAsmGoU7V",
        "colab_type": "code",
        "colab": {
          "base_uri": "https://localhost:8080/",
          "height": 204
        },
        "outputId": "097cf512-3295-46c1-c0a5-eb841f0b3fbf"
      },
      "source": [
        "# First, let's select the data for Greece, Albania and Bulgaria\n",
        "df_GreeceAlbaniaBulgaria = canada_df.loc[['Greece', 'Albania', 'Bulgaria'], years].T\n",
        "df_GreeceAlbaniaBulgaria.head()"
      ],
      "execution_count": 89,
      "outputs": [
        {
          "output_type": "execute_result",
          "data": {
            "text/html": [
              "<div>\n",
              "<style scoped>\n",
              "    .dataframe tbody tr th:only-of-type {\n",
              "        vertical-align: middle;\n",
              "    }\n",
              "\n",
              "    .dataframe tbody tr th {\n",
              "        vertical-align: top;\n",
              "    }\n",
              "\n",
              "    .dataframe thead th {\n",
              "        text-align: right;\n",
              "    }\n",
              "</style>\n",
              "<table border=\"1\" class=\"dataframe\">\n",
              "  <thead>\n",
              "    <tr style=\"text-align: right;\">\n",
              "      <th>Country</th>\n",
              "      <th>Greece</th>\n",
              "      <th>Albania</th>\n",
              "      <th>Bulgaria</th>\n",
              "    </tr>\n",
              "  </thead>\n",
              "  <tbody>\n",
              "    <tr>\n",
              "      <th>1980</th>\n",
              "      <td>1065</td>\n",
              "      <td>1</td>\n",
              "      <td>24</td>\n",
              "    </tr>\n",
              "    <tr>\n",
              "      <th>1981</th>\n",
              "      <td>953</td>\n",
              "      <td>0</td>\n",
              "      <td>20</td>\n",
              "    </tr>\n",
              "    <tr>\n",
              "      <th>1982</th>\n",
              "      <td>897</td>\n",
              "      <td>0</td>\n",
              "      <td>12</td>\n",
              "    </tr>\n",
              "    <tr>\n",
              "      <th>1983</th>\n",
              "      <td>633</td>\n",
              "      <td>0</td>\n",
              "      <td>33</td>\n",
              "    </tr>\n",
              "    <tr>\n",
              "      <th>1984</th>\n",
              "      <td>580</td>\n",
              "      <td>0</td>\n",
              "      <td>11</td>\n",
              "    </tr>\n",
              "  </tbody>\n",
              "</table>\n",
              "</div>"
            ],
            "text/plain": [
              "Country  Greece  Albania  Bulgaria\n",
              "1980       1065        1        24\n",
              "1981        953        0        20\n",
              "1982        897        0        12\n",
              "1983        633        0        33\n",
              "1984        580        0        11"
            ]
          },
          "metadata": {
            "tags": []
          },
          "execution_count": 89
        }
      ]
    },
    {
      "cell_type": "code",
      "metadata": {
        "id": "2FBini2pqdJ-",
        "colab_type": "code",
        "colab": {}
      },
      "source": [
        "# Next let's define the bin size using np.hist function\n",
        "count, bin_edges = np.histogram(df_GreeceAlbaniaBulgaria, 15)"
      ],
      "execution_count": 90,
      "outputs": []
    },
    {
      "cell_type": "markdown",
      "metadata": {
        "id": "4LW7eFz6qnBr",
        "colab_type": "text"
      },
      "source": [
        "Finally, let's plot the histogram according to question specs"
      ]
    },
    {
      "cell_type": "code",
      "metadata": {
        "id": "nOl2VhykqnrQ",
        "colab_type": "code",
        "colab": {
          "base_uri": "https://localhost:8080/",
          "height": 404
        },
        "outputId": "73e62ba4-40f0-4bf5-87ba-155660a16bb3"
      },
      "source": [
        "df_GreeceAlbaniaBulgaria.plot.hist(xticks=bin_edges,\n",
        "                   stacked=False,\n",
        "                   alpha=0.35,\n",
        "                   color=['navy','green','magenta'],\n",
        "                   figsize=(10,6))\n",
        "\n",
        "plt.title('Histplot of migrations from Greece, Albania, and Bulgaria (1980 - 2013)')\n",
        "plt.ylabel('Number of Years')\n",
        "plt.xlabel('Number of Immigrants')\n",
        "\n",
        "plt.show()"
      ],
      "execution_count": 91,
      "outputs": [
        {
          "output_type": "display_data",
          "data": {
            "image/png": "[encoded data removed]",
            "text/plain": [
              "<Figure size 720x432 with 1 Axes>"
            ]
          },
          "metadata": {
            "tags": []
          }
        }
      ]
    },
    {
      "cell_type": "markdown",
      "metadata": {
        "id": "1srd345arE7r",
        "colab_type": "text"
      },
      "source": [
        "<h3>Matplotlib Full Colors List</h3>\n",
        "\n",
        "Matplotlib has about 148 different colors and 26 different plot styles as we saw in Part 1.<br>If you're ever in need of more colors for your plots, just run the cell below to see the colors of Matplotlib.\n",
        "\n",
        "Let's save the Matplotlib colors and their respective HTML codes in a dictionary using a dictionary comprehension."
      ]
    },
    {
      "cell_type": "code",
      "metadata": {
        "id": "STv0AFCwsCcr",
        "colab_type": "code",
        "colab": {
          "base_uri": "https://localhost:8080/",
          "height": 1000
        },
        "outputId": "3088c492-8871-438d-8564-47f2f63f1882"
      },
      "source": [
        "import matplotlib as mpl\n",
        "mpl_color_dict = {name: hex for name, hex in mpl.colors.cnames.items()}\n",
        "mpl_color_dict"
      ],
      "execution_count": 95,
      "outputs": [
        {
          "output_type": "execute_result",
          "data": {
            "text/plain": [
              "{'aliceblue': '#F0F8FF',\n",
              " 'antiquewhite': '#FAEBD7',\n",
              " 'aqua': '#00FFFF',\n",
              " 'aquamarine': '#7FFFD4',\n",
              " 'azure': '#F0FFFF',\n",
              " 'beige': '#F5F5DC',\n",
              " 'bisque': '#FFE4C4',\n",
              " 'black': '#000000',\n",
              " 'blanchedalmond': '#FFEBCD',\n",
              " 'blue': '#0000FF',\n",
              " 'blueviolet': '#8A2BE2',\n",
              " 'brown': '#A52A2A',\n",
              " 'burlywood': '#DEB887',\n",
              " 'cadetblue': '#5F9EA0',\n",
              " 'chartreuse': '#7FFF00',\n",
              " 'chocolate': '#D2691E',\n",
              " 'coral': '#FF7F50',\n",
              " 'cornflowerblue': '#6495ED',\n",
              " 'cornsilk': '#FFF8DC',\n",
              " 'crimson': '#DC143C',\n",
              " 'cyan': '#00FFFF',\n",
              " 'darkblue': '#00008B',\n",
              " 'darkcyan': '#008B8B',\n",
              " 'darkgoldenrod': '#B8860B',\n",
              " 'darkgray': '#A9A9A9',\n",
              " 'darkgreen': '#006400',\n",
              " 'darkgrey': '#A9A9A9',\n",
              " 'darkkhaki': '#BDB76B',\n",
              " 'darkmagenta': '#8B008B',\n",
              " 'darkolivegreen': '#556B2F',\n",
              " 'darkorange': '#FF8C00',\n",
              " 'darkorchid': '#9932CC',\n",
              " 'darkred': '#8B0000',\n",
              " 'darksalmon': '#E9967A',\n",
              " 'darkseagreen': '#8FBC8F',\n",
              " 'darkslateblue': '#483D8B',\n",
              " 'darkslategray': '#2F4F4F',\n",
              " 'darkslategrey': '#2F4F4F',\n",
              " 'darkturquoise': '#00CED1',\n",
              " 'darkviolet': '#9400D3',\n",
              " 'deeppink': '#FF1493',\n",
              " 'deepskyblue': '#00BFFF',\n",
              " 'dimgray': '#696969',\n",
              " 'dimgrey': '#696969',\n",
              " 'dodgerblue': '#1E90FF',\n",
              " 'firebrick': '#B22222',\n",
              " 'floralwhite': '#FFFAF0',\n",
              " 'forestgreen': '#228B22',\n",
              " 'fuchsia': '#FF00FF',\n",
              " 'gainsboro': '#DCDCDC',\n",
              " 'ghostwhite': '#F8F8FF',\n",
              " 'gold': '#FFD700',\n",
              " 'goldenrod': '#DAA520',\n",
              " 'gray': '#808080',\n",
              " 'green': '#008000',\n",
              " 'greenyellow': '#ADFF2F',\n",
              " 'grey': '#808080',\n",
              " 'honeydew': '#F0FFF0',\n",
              " 'hotpink': '#FF69B4',\n",
              " 'indianred': '#CD5C5C',\n",
              " 'indigo': '#4B0082',\n",
              " 'ivory': '#FFFFF0',\n",
              " 'khaki': '#F0E68C',\n",
              " 'lavender': '#E6E6FA',\n",
              " 'lavenderblush': '#FFF0F5',\n",
              " 'lawngreen': '#7CFC00',\n",
              " 'lemonchiffon': '#FFFACD',\n",
              " 'lightblue': '#ADD8E6',\n",
              " 'lightcoral': '#F08080',\n",
              " 'lightcyan': '#E0FFFF',\n",
              " 'lightgoldenrodyellow': '#FAFAD2',\n",
              " 'lightgray': '#D3D3D3',\n",
              " 'lightgreen': '#90EE90',\n",
              " 'lightgrey': '#D3D3D3',\n",
              " 'lightpink': '#FFB6C1',\n",
              " 'lightsalmon': '#FFA07A',\n",
              " 'lightseagreen': '#20B2AA',\n",
              " 'lightskyblue': '#87CEFA',\n",
              " 'lightslategray': '#778899',\n",
              " 'lightslategrey': '#778899',\n",
              " 'lightsteelblue': '#B0C4DE',\n",
              " 'lightyellow': '#FFFFE0',\n",
              " 'lime': '#00FF00',\n",
              " 'limegreen': '#32CD32',\n",
              " 'linen': '#FAF0E6',\n",
              " 'magenta': '#FF00FF',\n",
              " 'maroon': '#800000',\n",
              " 'mediumaquamarine': '#66CDAA',\n",
              " 'mediumblue': '#0000CD',\n",
              " 'mediumorchid': '#BA55D3',\n",
              " 'mediumpurple': '#9370DB',\n",
              " 'mediumseagreen': '#3CB371',\n",
              " 'mediumslateblue': '#7B68EE',\n",
              " 'mediumspringgreen': '#00FA9A',\n",
              " 'mediumturquoise': '#48D1CC',\n",
              " 'mediumvioletred': '#C71585',\n",
              " 'midnightblue': '#191970',\n",
              " 'mintcream': '#F5FFFA',\n",
              " 'mistyrose': '#FFE4E1',\n",
              " 'moccasin': '#FFE4B5',\n",
              " 'navajowhite': '#FFDEAD',\n",
              " 'navy': '#000080',\n",
              " 'oldlace': '#FDF5E6',\n",
              " 'olive': '#808000',\n",
              " 'olivedrab': '#6B8E23',\n",
              " 'orange': '#FFA500',\n",
              " 'orangered': '#FF4500',\n",
              " 'orchid': '#DA70D6',\n",
              " 'palegoldenrod': '#EEE8AA',\n",
              " 'palegreen': '#98FB98',\n",
              " 'paleturquoise': '#AFEEEE',\n",
              " 'palevioletred': '#DB7093',\n",
              " 'papayawhip': '#FFEFD5',\n",
              " 'peachpuff': '#FFDAB9',\n",
              " 'peru': '#CD853F',\n",
              " 'pink': '#FFC0CB',\n",
              " 'plum': '#DDA0DD',\n",
              " 'powderblue': '#B0E0E6',\n",
              " 'purple': '#800080',\n",
              " 'rebeccapurple': '#663399',\n",
              " 'red': '#FF0000',\n",
              " 'rosybrown': '#BC8F8F',\n",
              " 'royalblue': '#4169E1',\n",
              " 'saddlebrown': '#8B4513',\n",
              " 'salmon': '#FA8072',\n",
              " 'sandybrown': '#F4A460',\n",
              " 'seagreen': '#2E8B57',\n",
              " 'seashell': '#FFF5EE',\n",
              " 'sienna': '#A0522D',\n",
              " 'silver': '#C0C0C0',\n",
              " 'skyblue': '#87CEEB',\n",
              " 'slateblue': '#6A5ACD',\n",
              " 'slategray': '#708090',\n",
              " 'slategrey': '#708090',\n",
              " 'snow': '#FFFAFA',\n",
              " 'springgreen': '#00FF7F',\n",
              " 'steelblue': '#4682B4',\n",
              " 'tan': '#D2B48C',\n",
              " 'teal': '#008080',\n",
              " 'thistle': '#D8BFD8',\n",
              " 'tomato': '#FF6347',\n",
              " 'turquoise': '#40E0D0',\n",
              " 'violet': '#EE82EE',\n",
              " 'wheat': '#F5DEB3',\n",
              " 'white': '#FFFFFF',\n",
              " 'whitesmoke': '#F5F5F5',\n",
              " 'yellow': '#FFFF00',\n",
              " 'yellowgreen': '#9ACD32'}"
            ]
          },
          "metadata": {
            "tags": []
          },
          "execution_count": 95
        }
      ]
    },
    {
      "cell_type": "code",
      "metadata": {
        "id": "s5ohZsTCtbtM",
        "colab_type": "code",
        "colab": {
          "base_uri": "https://localhost:8080/",
          "height": 34
        },
        "outputId": "6db075ff-f001-4107-a3ae-69bb2d3e1817"
      },
      "source": [
        ""
      ],
      "execution_count": 96,
      "outputs": [
        {
          "output_type": "execute_result",
          "data": {
            "text/plain": [
              "dict"
            ]
          },
          "metadata": {
            "tags": []
          },
          "execution_count": 96
        }
      ]
    }
  ]
}